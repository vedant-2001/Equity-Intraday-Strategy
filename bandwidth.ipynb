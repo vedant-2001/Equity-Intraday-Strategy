{
  "nbformat": 4,
  "nbformat_minor": 0,
  "metadata": {
    "kernelspec": {
      "display_name": "Python 3",
      "language": "python",
      "name": "python3"
    },
    "language_info": {
      "codemirror_mode": {
        "name": "ipython",
        "version": 2
      },
      "file_extension": ".py",
      "mimetype": "text/x-python",
      "name": "python",
      "nbconvert_exporter": "python",
      "pygments_lexer": "ipython2",
      "version": "2.7.17"
    },
    "colab": {
      "name": "bandwidth.ipynb",
      "provenance": []
    }
  },
  "cells": [
    {
      "cell_type": "code",
      "metadata": {
        "id": "1kvZZQc5O6VH"
      },
      "source": [
        "import pandas as pd\n",
        "import numpy as np\n",
        "\n",
        "from pathlib import Path\n",
        "\n",
        "from pprint import pprint\n",
        "\n",
        "from datetime import datetime, timedelta, time\n",
        "\n",
        "import talib"
      ],
      "execution_count": null,
      "outputs": []
    },
    {
      "cell_type": "code",
      "metadata": {
        "id": "9QjssjCBO6VL"
      },
      "source": [
        ""
      ],
      "execution_count": null,
      "outputs": []
    },
    {
      "cell_type": "code",
      "metadata": {
        "id": "lpBmAzLFO6VL"
      },
      "source": [
        "\n"
      ],
      "execution_count": null,
      "outputs": []
    },
    {
      "cell_type": "code",
      "metadata": {
        "id": "DAlXGWFFO6VM"
      },
      "source": [
        "from pymongo import MongoClient\n",
        "from matplotlib import pyplot as plt\n",
        "\n",
        "%load_ext Cython\n",
        "%matplotlib notebook"
      ],
      "execution_count": null,
      "outputs": []
    },
    {
      "cell_type": "code",
      "metadata": {
        "id": "lPhkTr7qO6VM"
      },
      "source": [
        ""
      ],
      "execution_count": null,
      "outputs": []
    },
    {
      "cell_type": "code",
      "metadata": {
        "id": "D8beO5PgO6VN"
      },
      "source": [
        "#stock_list = ['SUNPHARMA','ASIANPAINT', 'ULTRACEMCO', 'DRREDDY', 'TCS','TATASTEEL','HDFC', 'HDFCBANK','HINDALCO', 'ITC', 'BHARTIARTL', 'HCLTECH', 'ADANIPORTS', 'SBIN','INDUSINDBK', 'TECHM','INFY','RELIANCE', 'AXISBANK', 'ONGC', 'ICICIBANK', 'HINDUNILVR','NTPC', 'KOTAKBANK']"
      ],
      "execution_count": null,
      "outputs": []
    },
    {
      "cell_type": "markdown",
      "metadata": {
        "id": "9y0br_2WO6VN"
      },
      "source": [
        "Data preparation\n",
        "==="
      ]
    },
    {
      "cell_type": "code",
      "metadata": {
        "id": "Z4ZfrfsrO6VN"
      },
      "source": [
        "#def get_stock_from_universe(univ):\n",
        "    #client = MongoClient()\n",
        "    #db = client['universes']\n",
        "    #return pd.DataFrame(list(db[univ].find({}, { \"_id\": 0 })))['ticker']\n",
        "\n",
        "#stock_list = list(set(list(get_stock_from_universe(\"nifty50\"))))\n",
        "#print(stock_list)\n",
        "#nifty50 = pd.read_csv(\"/home/vedant/Downloads/data.csv\")\n",
        "#stock_list = nifty50['Symbol'].to_list()\n",
        "#stock_list.remove('POWERGRID')\n",
        "\n",
        "#nifty50 = pd.read_csv(\"/home/vedant/Downloads/data.csv\")\n",
        "#stock_list = nifty50['Symbol'].to_list()[1:]\n",
        "#stock_list.remove('POWERGRID')\n"
      ],
      "execution_count": null,
      "outputs": []
    },
    {
      "cell_type": "code",
      "metadata": {
        "id": "Kw0wa9yUO6VO"
      },
      "source": [
        "#stock_list = ['SUNPHARMA','ASIANPAINT', 'ULTRACEMCO', 'DRREDDY', 'TCS','TATASTEEL','HDFC', 'HDFCBANK','HINDALCO', 'ITC', 'BHARTIARTL', 'HCLTECH', 'ADANIPORTS', 'SBIN','INDUSINDBK', 'TECHM','INFY','RELIANCE', 'AXISBANK', 'ONGC', 'ICICIBANK', 'HINDUNILVR','NTPC', 'KOTAKBANK']#['BANDHANBNK', 'RBLBANK', 'BANKBARODA', 'INDUSINDBK', 'SBIN', 'IDFCFIRSTB', 'FEDERALBNK', 'ICICIBANK', 'PNB', 'AXISBANK', 'HDFCBANK', 'KOTAKBANK']\n",
        "#stock_list = ['SUNPHARMA','ASIANPAINT', 'ULTRACEMCO','TCS','TATASTEEL', 'HINDALCO', 'HDFC', 'HDFCBANK', 'ITC', 'BHARTIARTL', 'HCLTECH', 'ADANIPORTS', 'SBIN','INDUSINDBK','TECHM','INFY','RELIANCE', 'AXISBANK','ICICIBANK', 'HINDUNILVR']#['BANDHANBNK', 'RBLBANK', 'BANKBARODA', 'INDUSINDBK', 'SBIN', 'IDFCFIRSTB', 'FEDERALBNK', 'ICICIBANK', 'PNB', 'AXISBANK', 'HDFCBANK', 'KOTAKBANK']\n",
        "#stock_list = ['SUNPHARMA','ASIANPAINT', 'ULTRACEMCO', 'DRREDDY', 'TCS','TATASTEEL','HDFC', 'HDFCBANK','HINDALCO', 'ITC', 'BHARTIARTL', 'HCLTECH', 'ADANIPORTS', 'SBIN','INDUSINDBK', 'TECHM','INFY','RELIANCE', 'AXISBANK', 'ONGC','NTPC','ICICIBANK', 'HINDUNILVR']#['BANDHANBNK', 'RBLBANK', 'BANKBARODA', 'INDUSINDBK', 'SBIN', 'IDFCFIRSTB', 'FEDERALBNK', 'ICICIBANK', 'PNB', 'AXISBANK', 'HDFCBANK', 'KOTAKBANK']\n",
        "#stock_list = ['ITC','HDFCBANK','TATASTEEL','ADANIPORTS','BHARTIARTL','ULTRACEMCO','HCLTECH','HINDALCO','TECHM','NTPC','HINDUNILVR']#['BANDHANBNK', 'RBLBANK', 'BANKBARODA', 'INDUSINDBK', 'SBIN', 'IDFCFIRSTB', 'FEDERALBNK', 'ICICIBANK', 'PNB', 'AXISBANK', 'HDFCBANK', 'KOTAKBANK']\n",
        "#stock_list = ['COALINDIA','HINDZINC','TATASTEEL','JSWSTEEL','HINDALCO']\n",
        "#stock_list = ['HCLTECH','INFY','TCS','NIITTECH','WIPRO']\n",
        "#stock_list = ['SUNPHARMA','ASIANPAINT', 'ULTRACEMCO', 'DRREDDY', 'TCS','TATASTEEL','HDFC', 'HDFCBANK','HINDALCO', 'ITC', 'BHARTIARTL', 'HCLTECH', 'ADANIPORTS', 'SBIN','INDUSINDBK', 'TECHM','INFY','RELIANCE', 'AXISBANK', 'ONGC', 'ICICIBANK', 'HINDUNILVR','NTPC', 'KOTAKBANK']\n",
        "#stock_list = ['DABUR','ITC','UPL','GODREJCP','PGHH','JUBLFOOD','MARICO']\n",
        "#stock_list = ['TATAMOTORS','MARUTI','HEROMOTOCO','BAJAJ-AUTO','TVSMOTOR','EXIDEIND']\n",
        "#stock_list = ['BANKBARODA','SBIN','IDFCFIRSTB','INDUSINDBK','SUNPHARMA','DRREDDY','UPL','RELIANCE','TECHM','GAIL']\n",
        "stock_list =['BANDHANBNK','BANKBARODA','PNB','SUNPHARMA','ASIANPAINT','ULTRACEMCO', 'DRREDDY', 'TCS','TATASTEEL','HDFC', 'HDFCBANK','HINDALCO','HCLTECH', 'ADANIPORTS', 'SBIN','TECHM','INFY','RELIANCE', 'AXISBANK', 'ICICIBANK', 'HINDUNILVR','NTPC', 'KOTAKBANK']\n",
        "#stock_list = ['UPL','SUNPHARMA','BAJAJFINSV','RELIANCE','TECHM','GAIL','MARUTI','SBIN']\n",
        "portfolio = {}\n",
        "portfolio = {}\n",
        "for stock in stock_list:\n",
        "    try:\n",
        "        #print(\"Reading\", stock, flush=True)\n",
        "        data = pd.read_csv(Path(\"/home/vedant/Downloads/In_sample_data/In_sample_data/{}.csv\".format(stock)))\n",
        "\n",
        "        data.set_index(\"date\", inplace=True)\n",
        "        data.index = pd.to_datetime(data.index)\n",
        "        data.index = data.index.tz_localize(None)\n",
        "    #data.index += timedelta(hours=5, minutes=30)\n",
        "\n",
        "        portfolio[stock] = data\n",
        "    except :\n",
        "        print(\"cant print for {}\".format(stock))"
      ],
      "execution_count": null,
      "outputs": []
    },
    {
      "cell_type": "code",
      "metadata": {
        "id": "qSbOgu3AO6VQ"
      },
      "source": [
        "close = pd.DataFrame(columns=stock_list)\n",
        "open = pd.DataFrame(columns=stock_list)\n",
        "high = pd.DataFrame(columns=stock_list)\n",
        "low = pd.DataFrame(columns=stock_list)\n",
        "volume = pd.DataFrame(columns=stock_list)\n",
        "\n",
        "for stock in portfolio.keys():\n",
        "    close[stock] = portfolio[stock]['close']\n",
        "    open[stock] = portfolio[stock]['open']\n",
        "    high[stock] = portfolio[stock]['high']\n",
        "    low[stock] = portfolio[stock]['low']\n",
        "    volume[stock] = portfolio[stock]['volume']"
      ],
      "execution_count": null,
      "outputs": []
    },
    {
      "cell_type": "code",
      "metadata": {
        "id": "B_VAktT2O6VQ"
      },
      "source": [
        "close = close.between_time(\"09:15\", \"15:30\")\n",
        "open = open.between_time(\"09:15\", \"15:30\")\n",
        "high = high.between_time(\"09:15\", \"15:30\")\n",
        "low = low.between_time(\"09:15\", \"15:30\")\n",
        "volume = volume.between_time(\"09:15\", \"15:30\")"
      ],
      "execution_count": null,
      "outputs": []
    },
    {
      "cell_type": "code",
      "metadata": {
        "id": "zF_UoFwMO6VR"
      },
      "source": [
        "close = close.ffill().bfill()\n",
        "open = open.ffill().bfill()\n",
        "high = high.ffill().bfill()\n",
        "low = low.ffill().bfill()\n",
        "volume = volume.ffill().bfill()"
      ],
      "execution_count": null,
      "outputs": []
    },
    {
      "cell_type": "markdown",
      "metadata": {
        "id": "ABobATNLO6VS"
      },
      "source": [
        "Functions used\n",
        "==="
      ]
    },
    {
      "cell_type": "code",
      "metadata": {
        "id": "DmS0GOQYO6VS"
      },
      "source": [
        "import pandas as pd\n",
        "import numpy as np\n",
        "import talib as tb\n",
        "\n",
        "def SMA(x=pd.DataFrame(),k=30):\n",
        "    y=pd.DataFrame(columns = x.columns)\n",
        "    for i in range(0,len(x.columns)):\n",
        "        y.iloc[:,i]=pd.Series(tb.SMA(((x.iloc[:,i]).values.astype(dtype='f8')),timeperiod=k))\n",
        "    y2=y.set_index(x.index)\n",
        "    return y2\n",
        "\n",
        "def EMA(x=pd.DataFrame(),k=30):\n",
        "    y=pd.DataFrame(columns = x.columns)\n",
        "    for i in range(0,len(x.columns)):\n",
        "        y.iloc[:,i]=pd.Series(tb.EMA((x.iloc[:,i]).values.astype(dtype='f8'),timeperiod=k))\n",
        "    y2=y.set_index(x.index)\n",
        "    return y2\n",
        "\n",
        "def csRank(x=pd.DataFrame()):\n",
        "    y2=x.rank(axis=1,pct=True)\n",
        "    return y2\n",
        "\n",
        "def csMean(x=pd.DataFrame()):\n",
        "    y=pd.DataFrame(columns=x.columns,index=x.index)\n",
        "    for i in range(len(x.columns)):\n",
        "        y.iloc[:,i]=x.mean(axis=1)\n",
        "    return y\n",
        "\n",
        "def tsRank(x=pd.DataFrame(),k=30):\n",
        "    y2=pd.DataFrame(index=x.index,columns=x.columns)\n",
        "    for i in range(k,len(x)+1):\n",
        "        y=(x.iloc[i-k:i,:]).rank(axis=0,pct=True)\n",
        "        y2.iloc[i-1,:]=y.iloc[-1,:]\n",
        "    return y2\n",
        "\n",
        "def Sum(x=pd.DataFrame(),k=30):\n",
        "    y2=pd.DataFrame(index=x.index,columns=x.columns)\n",
        "    for i in range(k,len(x)+1):\n",
        "        y=(x.iloc[i-k:i,:]).sum(axis=0)\n",
        "        y2.iloc[i-1,:]=y\n",
        "    return y2\n",
        "\n",
        "def tsMax(x=pd.DataFrame(),k=30):\n",
        "    y2=pd.DataFrame(index=x.index,columns=x.columns)\n",
        "    for i in range(k,len(x)+1):\n",
        "        y=(x.iloc[i-k:i,:]).max(axis=0)\n",
        "        y2.iloc[i-1,:]=y\n",
        "    return y2\n",
        "\n",
        "def csMax(x=pd.DataFrame()):\n",
        "    y=pd.DataFrame(columns=x.columns,index=x.index)\n",
        "    for i in range(len(x.columns)):\n",
        "        y.iloc[:,i]=x.max(axis=1)\n",
        "    return y\n",
        "\n",
        "def tsMin(x=pd.DataFrame(),k=30):\n",
        "    y2=pd.DataFrame(index=x.index,columns=x.columns)\n",
        "    for i in range(k,len(x)+1):\n",
        "        y=(x.iloc[i-k:i,:]).min(axis=0)\n",
        "        y2.iloc[i-1,:]=y\n",
        "    return y2\n",
        "\n",
        "def csMin(x=pd.DataFrame()):\n",
        "    y=pd.DataFrame(columns=x.columns,index=x.index)\n",
        "    for i in range(len(x.columns)):\n",
        "        y.iloc[:,i]=x.min(axis=1)\n",
        "    return y\n",
        "\n",
        "def stdDev(x=pd.DataFrame(),k=30):\n",
        "    y=pd.DataFrame(columns = x.columns)\n",
        "    for i in range(0,len(x.columns)):\n",
        "        y.iloc[:,i]=pd.Series(tb.STDDEV((x.iloc[:,i]).values.astype(dtype='f8'),timeperiod=k))\n",
        "    y2=y.set_index(x.index)\n",
        "    return y2\n",
        "\n",
        "def tsZscore(x=pd.DataFrame(),k=30):\n",
        "    y = pd.DataFrame(columns=x.columns, index=x.index)\n",
        "    y = (x-SMA(x,k))/stdDev(x,k)\n",
        "    return y\n",
        "\n",
        "def delay(x=pd.DataFrame(),k=30):\n",
        "    y=x.shift(periods=k)\n",
        "    return y\n",
        "\n",
        "def delta(x=pd.DataFrame(),k=30):\n",
        "    y=x-delay(x,k)\n",
        "    return y\n",
        "\n",
        "def momentum(x=pd.DataFrame(),k=30):\n",
        "    y=pd.DataFrame(columns = x.columns)\n",
        "    for i in range(0,len(x.columns)):\n",
        "        y.iloc[:,i]=pd.Series(tb.MOM((x.iloc[:,i]).values.astype(dtype='f8'),timeperiod=k))\n",
        "    y2=y.set_index(x.index)\n",
        "    return y2\n",
        "\n",
        "def RSI(x=pd.DataFrame(),k=30):\n",
        "    y=pd.DataFrame(columns = x.columns)\n",
        "    for i in range(0,len(x.columns)):\n",
        "        y.iloc[:,i]=pd.Series(tb.RSI((x.iloc[:,i]).values.astype(dtype='f8'),timeperiod=k))\n",
        "    y2=y.set_index(x.index)\n",
        "    return y2\n",
        "\n",
        "def BBupper(x=pd.DataFrame(),k=30):\n",
        "    y=pd.DataFrame(columns = x.columns)\n",
        "    q=pd.DataFrame(columns = x.columns)\n",
        "    z=pd.DataFrame(columns = x.columns)\n",
        "    for i in range(0,len(x.columns)):\n",
        "        y.iloc[:,i], q.iloc[:,i], z.iloc[:,i]=pd.Series(tb.BBANDS((x.iloc[:,i]).values.astype(dtype='f8'), timeperiod=k, nbdevup=2, nbdevdn=2, matype=0))\n",
        "    y2=y.set_index(x.index)\n",
        "    q2=q.set_index(x.index)\n",
        "    z2=z.set_index(x.index)\n",
        "    return y2\n",
        "\n",
        "def BBlower(x=pd.DataFrame(),k=30):\n",
        "    y=pd.DataFrame(columns = x.columns)\n",
        "    q=pd.DataFrame(columns = x.columns)\n",
        "    z=pd.DataFrame(columns = x.columns)\n",
        "    for i in range(0,len(x.columns)):\n",
        "        y.iloc[:,i], q.iloc[:,i], z.iloc[:,i]=pd.Series(tb.BBANDS((x.iloc[:,i]).values.astype(dtype='f8'), timeperiod=k, nbdevup=2, nbdevdn=2, matype=0))\n",
        "    y2=y.set_index(x.index)\n",
        "    q2=q.set_index(x.index)\n",
        "    z2=z.set_index(x.index)\n",
        "    return z2\n",
        "\n",
        "def HTtrendline(x=pd.DataFrame()):\n",
        "    y=pd.DataFrame(columns = x.columns)\n",
        "    for i in range(0,len(x.columns)):\n",
        "        y.iloc[:,i]=pd.Series(tb.HT_TRENDLINE((x.iloc[:,i]).values.astype(dtype='f8')))\n",
        "    y2=y.set_index(x.index)\n",
        "    return y2\n",
        "\n",
        "def KAMA(x=pd.DataFrame(),k=30):\n",
        "    y=pd.DataFrame(columns = x.columns)\n",
        "    for i in range(0,len(x.columns)):\n",
        "        y.iloc[:,i]=pd.Series(tb.KAMA((x.iloc[:,i]).values.astype(dtype='f8'),timeperiod=k))\n",
        "    y2=y.set_index(x.index)\n",
        "    return y2\n",
        "\n",
        "\n",
        "def MIDPOINT(x=pd.DataFrame(),k=30):\n",
        "    y=pd.DataFrame(columns = x.columns)\n",
        "    for i in range(0,len(x.columns)):\n",
        "        y.iloc[:,i]=pd.Series(tb.MIDPOINT((x.iloc[:,i]).values.astype(dtype='f8'),timeperiod=k))\n",
        "    y2=y.set_index(x.index)\n",
        "    return y2\n",
        "\n",
        "\n",
        "def WMA(x=pd.DataFrame(),k=30):\n",
        "    y=pd.DataFrame(columns = x.columns)\n",
        "    for i in range(0,len(x.columns)):\n",
        "        y.iloc[:,i]=pd.Series(tb.WMA((x.iloc[:,i]).values.astype(dtype='f8'), timeperiod=k))\n",
        "    y2=y.set_index(x.index)\n",
        "    return y2\n",
        "\n",
        "\n",
        "\n",
        "\n",
        "def APO(x=pd.DataFrame(), k=12 , l = 26, m = 0):\n",
        "    y=pd.DataFrame(columns = x.columns)\n",
        "    for i in range(0,len(x.columns)):\n",
        "        y.iloc[:,i]=pd.Series(tb.APO((x.iloc[:,i]).values.astype(dtype='f8'), fastperiod=k, slowperiod=l, matype=m))\n",
        "    y2=y.set_index(x.index)\n",
        "    return y2\n",
        "\n",
        "def CMO(x=pd.DataFrame(), k=14 ):\n",
        "    y=pd.DataFrame(columns = x.columns)\n",
        "    for i in range(0,len(x.columns)):\n",
        "        y.iloc[:,i]=pd.Series(tb.CMO((x.iloc[:,i]).values.astype(dtype='f8'), timeperiod=k))\n",
        "    y2=y.set_index(x.index)\n",
        "    return y2\n",
        "\n",
        "def MACD(x=pd.DataFrame(), k=12, l=26, m=9):\n",
        "    y=pd.DataFrame(columns = x.columns)\n",
        "    q=pd.DataFrame(columns = x.columns)\n",
        "    z=pd.DataFrame(columns = x.columns)\n",
        "    for i in range(0,len(x.columns)):\n",
        "        y.iloc[:,i], q.iloc[:,i], z.iloc[:,i]=pd.Series(tb.MACD((x.iloc[:,i]).values.astype(dtype='f8'), fastperiod=k, slowperiod=l, signalperiod=m))\n",
        "    y2=y.set_index(x.index)\n",
        "    q2=q.set_index(x.index)\n",
        "    z2=z.set_index(x.index)\n",
        "    return y2\n",
        "def MACDsignal(x=pd.DataFrame(), k=12, l=26, m=9):\n",
        "    y=pd.DataFrame(columns = x.columns)\n",
        "    q=pd.DataFrame(columns = x.columns)\n",
        "    z=pd.DataFrame(columns = x.columns)\n",
        "    for i in range(0,len(x.columns)):\n",
        "        y.iloc[:,i], q.iloc[:,i], z.iloc[:,i]=pd.Series(tb.MACD((x.iloc[:,i]).values.astype(dtype='f8'), fastperiod=k, slowperiod=l, signalperiod=m))\n",
        "    y2=y.set_index(x.index)\n",
        "    q2=q.set_index(x.index)\n",
        "    z2=z.set_index(x.index)\n",
        "    return q2\n",
        "\n",
        "def PPO(x=pd.DataFrame(), k=12 , l = 26, m = 0):\n",
        "    y=pd.DataFrame(columns = x.columns)\n",
        "    for i in range(0,len(x.columns)):\n",
        "        y.iloc[:,i]=pd.Series(tb.PPO((x.iloc[:,i]).values.astype(dtype='f8'), fastperiod=k, slowperiod=l, matype=m))\n",
        "    y2=y.set_index(x.index)\n",
        "    return y2\n",
        "\n",
        "def ROCP(x=pd.DataFrame(), k=10):\n",
        "    y=pd.DataFrame(columns = x.columns)\n",
        "    for i in range(0,len(x.columns)):\n",
        "        y.iloc[:,i]=pd.Series(tb.ROCP((x.iloc[:,i]).values.astype(dtype='f8'), timeperiod=k))\n",
        "    y2=y.set_index(x.index)\n",
        "    return y2\n",
        "\n",
        "def AROONoscillator(x=pd.DataFrame(),x2=pd.DataFrame(), k=14 ):\n",
        "    y=pd.DataFrame(columns = x.columns)\n",
        "    for i in range(0,len(x.columns)):\n",
        "        y.iloc[:,i]=pd.Series(tb.AROONOSC((x.iloc[:,i]).values.astype(dtype='f8'),(x2.iloc[:,i]).values.astype(dtype='f8'), timeperiod=k))\n",
        "    y2=y.set_index(x.index)\n",
        "    return y2\n",
        "\n",
        "def ADX(x=pd.DataFrame(),x2=pd.DataFrame(),x3=pd.DataFrame(), k=14 ):\n",
        "    y=pd.DataFrame(columns = x.columns)\n",
        "    for i in range(0,len(x.columns)):\n",
        "        y.iloc[:,i]=pd.Series(tb.ADX((x.iloc[:,i]).values.astype(dtype='f8'),(x2.iloc[:,i]).values.astype(dtype='f8'),(x3.iloc[:,i]).values.astype(dtype='f8'), timeperiod=k))\n",
        "    y2=y.set_index(x.index)\n",
        "    return y2\n",
        "\n",
        "\n",
        "\n",
        "def ADXR(x=pd.DataFrame(),x2=pd.DataFrame(),x3=pd.DataFrame(), k=14 ):\n",
        "    y=pd.DataFrame(columns = x.columns)\n",
        "    for i in range(0,len(x.columns)):\n",
        "        y.iloc[:,i]=pd.Series(tb.ADXR((x.iloc[:,i]).values.astype(dtype='f8'),(x2.iloc[:,i]).values.astype(dtype='f8'),(x3.iloc[:,i]).values.astype(dtype='f8'), timeperiod=k))\n",
        "    y2=y.set_index(x.index)\n",
        "    return y2\n",
        "\n",
        "def WILLR(x=pd.DataFrame(),x2=pd.DataFrame(),x3=pd.DataFrame(), k=14):\n",
        "    y=pd.DataFrame(columns = x.columns)\n",
        "    for i in range(0,len(x.columns)):\n",
        "        y.iloc[:,i]=pd.Series(tb.WILLR((x.iloc[:,i]).values.astype(dtype='f8'),(x2.iloc[:,i]).values.astype(dtype='f8'),(x3.iloc[:,i]).values.astype(dtype='f8'), timeperiod=k))\n",
        "    y2=y.set_index(x.index)\n",
        "    return y2\n",
        "\n",
        "def ULTOSC(x=pd.DataFrame(),x2=pd.DataFrame(),x3=pd.DataFrame(), k=7, l=14, m=28):\n",
        "    y=pd.DataFrame(columns = x.columns)\n",
        "    for i in range(0,len(x.columns)):\n",
        "        y.iloc[:,i]=pd.Series(tb.ULTOSC((x.iloc[:,i]).values.astype(dtype='f8'),(x2.iloc[:,i]).values.astype(dtype='f8'),(x3.iloc[:,i]).values.astype(dtype='f8'),timeperiod1=k, timeperiod2=l, timeperiod3=m))\n",
        "    y2=y.set_index(x.index)\n",
        "    return y2\n",
        "\n",
        "def OBV(x=pd.DataFrame(),x2=pd.DataFrame()):\n",
        "    y=pd.DataFrame(columns = x.columns)\n",
        "    for i in range(0,len(x.columns)):\n",
        "        y.iloc[:,i]=pd.Series(tb.OBV((x.iloc[:,i]).values.astype(dtype='f8'),(x2.iloc[:,i]).values.astype(dtype='f8')))\n",
        "    y2=y.set_index(x.index)\n",
        "    return y2\n",
        "\n",
        "def ATR(x=pd.DataFrame(),x2=pd.DataFrame(),x3=pd.DataFrame(), k=14 ):\n",
        "    y=pd.DataFrame(columns = x.columns)\n",
        "    for i in range(0,len(x.columns)):\n",
        "        y.iloc[:,i]=pd.Series(tb.ATR((x.iloc[:,i]).values.astype(dtype='f8'),(x2.iloc[:,i]).values.astype(dtype='f8'),(x3.iloc[:,i]).values.astype(dtype='f8'),timeperiod=k))\n",
        "    y2=y.set_index(x.index)\n",
        "    return y2\n",
        "\n",
        "def TRANGE(x=pd.DataFrame(),x2=pd.DataFrame(),x3=pd.DataFrame()):\n",
        "    y=pd.DataFrame(columns = x.columns)\n",
        "    for i in range(0,len(x.columns)):\n",
        "        y.iloc[:,i]=pd.Series(tb.TRANGE((x.iloc[:,i]).values.astype(dtype='f8'),(x2.iloc[:,i]).values.astype(dtype='f8'),(x3.iloc[:,i]).values.astype(dtype='f8')))\n",
        "    y2=y.set_index(x.index)\n",
        "    return y2\n",
        "\n",
        "def LINEARREG(x=pd.DataFrame(), k=14):\n",
        "    y=pd.DataFrame(columns = x.columns)\n",
        "    for i in range(0,len(x.columns)):\n",
        "        y.iloc[:,i]=pd.Series(tb.LINEARREG((x.iloc[:,i]).values.astype(dtype='f8'), timeperiod=k))\n",
        "    y2=y.set_index(x.index)\n",
        "    return y2\n",
        "\n",
        "def LINEARREGintercept(x=pd.DataFrame(), k=14):\n",
        "    y=pd.DataFrame(columns = x.columns)\n",
        "    for i in range(0,len(x.columns)):\n",
        "        y.iloc[:,i]=pd.Series(tb.LINEARREG_INTERCEPT((x.iloc[:,i]).values.astype(dtype='f8'), timeperiod=k))\n",
        "    y2=y.set_index(x.index)\n",
        "    return y2\n",
        "\n",
        "\n",
        "def LINEARREGslope(x=pd.DataFrame(), k=14):\n",
        "    y=pd.DataFrame(columns = x.columns)\n",
        "    for i in range(0,len(x.columns)):\n",
        "        y.iloc[:,i]=pd.Series(tb.LINEARREG_SLOPE((x.iloc[:,i]).values.astype(dtype='f8'), timeperiod=k))\n",
        "    y2=y.set_index(x.index)\n",
        "    return y2\n",
        "\n",
        "def CEIL(x=pd.DataFrame()):\n",
        "    y=pd.DataFrame(columns = x.columns)\n",
        "    for i in range(0,len(x.columns)):\n",
        "        y.iloc[:,i]=pd.Series(tb.CEIL((x.iloc[:,i]).values.astype(dtype='f8')))\n",
        "    y2=y.set_index(x.index)\n",
        "    return y2\n",
        "\n",
        "def FLOOR(x=pd.DataFrame()):\n",
        "    y=pd.DataFrame(columns = x.columns)\n",
        "    for i in range(0,len(x.columns)):\n",
        "        y.iloc[:,i]=pd.Series(tb.FLOOR((x.iloc[:,i]).values.astype(dtype='f8')))\n",
        "    y2=y.set_index(x.index)\n",
        "    return y2\n",
        "\n",
        "def ACOS(x=pd.DataFrame()):\n",
        "    y=pd.DataFrame(columns = x.columns)\n",
        "    for i in range(0,len(x.columns)):\n",
        "        y.iloc[:,i]=pd.Series(tb.ACOS((x.iloc[:,i]).values.astype(dtype='f8')))\n",
        "    y2=y.set_index(x.index)\n",
        "    return y2\n",
        "\n",
        "def ASIN(x=pd.DataFrame()):\n",
        "    y=pd.DataFrame(columns = x.columns)\n",
        "    for i in range(0,len(x.columns)):\n",
        "        y.iloc[:,i]=pd.Series(tb.ACOS((x.iloc[:,i]).values.astype(dtype='f8')))\n",
        "    y2=y.set_index(x.index)\n",
        "    return y2\n"
      ],
      "execution_count": null,
      "outputs": []
    },
    {
      "cell_type": "code",
      "metadata": {
        "id": "GdLh5v75O6VV"
      },
      "source": [
        "%%cython\n",
        "\n",
        "import numpy as np\n",
        "import pandas as pd\n",
        "\n",
        "\n",
        "def calculate_constant_exposure(long[:, :] entry_signal,\n",
        "                                float long_target, float long_stoploss,\n",
        "                                float short_target, float short_stoploss,\n",
        "                                long[:, :] exposure,\n",
        "                                double[:, :] close, double[:, :] open,\n",
        "                                double[:, :] high, double[:, :] low,\n",
        "                                long[:] is_320,long[:] is_916,long[:] is_230, debug=False):\n",
        "    \"\"\"\n",
        "        Given entry_signal with a MINUTE CANDLE SIZE\n",
        "        returns exposure (true or false) at every datetime\n",
        "        for every stock\n",
        "        \n",
        "        REQUIRES: \n",
        "        1. entry_signal is minute wise\n",
        "    \"\"\"\n",
        "    cdef Py_ssize_t num_stocks = entry_signal.shape[1]\n",
        "    cdef Py_ssize_t num_datetimes = entry_signal.shape[0]\n",
        "\n",
        "    cdef int holding = 0\n",
        "    cdef float entry_price = 0.0\n",
        "    cdef float tp = 0.0\n",
        "    cdef float sl = 0.0\n",
        "\n",
        "    cdef int stock = 0\n",
        "    cdef int cur_date = 0\n",
        "\n",
        "    for stock in range(num_stocks):\n",
        "        holding = 0\n",
        "        entry_price = 0.0\n",
        "        tp = 0.0\n",
        "        sl = 0.0\n",
        "\n",
        "        for cur_date in range(num_datetimes-1):\n",
        "            exposure[cur_date, stock] = holding\n",
        "\n",
        "            if (holding == 0) and \\\n",
        "                    (abs(entry_signal[cur_date, stock]) == 1) and\\\n",
        "                    ((tp == 0.0 and sl == 0.0)) and\\\n",
        "                    (not is_320[cur_date]) and (is_916[cur_date]) and (not is_230[cur_date]):\n",
        "                if debug:\n",
        "                    print(\"Entering position\", stock, cur_date)\n",
        "\n",
        "                entry_price = open[cur_date+1, stock]\n",
        "                holding = entry_signal[cur_date, stock]\n",
        "\n",
        "                if holding == 1:\n",
        "                    # Enter long position\n",
        "                    tp = entry_price*(1+long_target/100.0)\n",
        "                    sl = entry_price*(1-long_stoploss/100.0)\n",
        "                elif holding == -1:\n",
        "                    # Enter short position\n",
        "                    tp = entry_price*(1-short_target/100.0)\n",
        "                    sl = entry_price*(1+short_stoploss/100.0)\n",
        "\n",
        "                if debug:\n",
        "                    print(\"Entry price\", entry_price)\n",
        "                    print(\"Type of trade\", holding)\n",
        "                    print(\"Target\", tp, \"Stoploss\", sl)\n",
        "            elif (holding == 1) and\\\n",
        "                    ((high[cur_date, stock] >= tp or low[cur_date, stock] <= sl) or\\\n",
        "                     is_320[cur_date]):\n",
        "                holding = 0\n",
        "                entry_price = 0.0\n",
        "                tp = 0.0\n",
        "                sl = 0.0\n",
        "\n",
        "                if debug:\n",
        "                    print(\"Exiting long position\", stock, cur_date)\n",
        "                    if is_320[cur_date]:\n",
        "                        print(\"Exited due to 3:20\")\n",
        "            elif (holding == -1) and\\\n",
        "                    ((low[cur_date, stock] <= tp or high[cur_date, stock] >= sl) or\\\n",
        "                     is_320[cur_date]):\n",
        "                holding = 0\n",
        "                entry_price = 0.0\n",
        "                tp = 0.0\n",
        "                sl = 0.0\n",
        "\n",
        "                if debug:\n",
        "                    print(\"Exiting short position\", stock, cur_date)\n",
        "                    if is_320[cur_date]:\n",
        "                        print(\"Exited due to 3:20\")\n",
        "\n",
        "\n",
        "    # Always exit all positions at the end date\n",
        "    for i in range(num_stocks):\n",
        "        exposure[num_datetimes-1, i] = 0\n",
        "\n",
        "\n",
        "def get_constant_exposure(close_, open_, high_, low_,\n",
        "                          is_320, is_916,is_230,\n",
        "                          entry_signal,\n",
        "                          long_target, long_stoploss,\n",
        "                          short_target, short_stoploss,\n",
        "                          debug):\n",
        "    exposure = np.zeros_like(close_.values, dtype='int64')\n",
        "\n",
        "    calculate_constant_exposure((entry_signal.values*1).astype('int64'),\n",
        "                                long_target, long_stoploss,\n",
        "                                short_target, short_stoploss,\n",
        "                                exposure,\n",
        "                                close_.values, open_.values, high_.values, low_.values,\n",
        "                                is_320.values,is_916.values,is_230.values , debug)\n",
        "\n",
        "    final_exposure = pd.DataFrame(exposure, index=close_.index, columns=close_.columns)\n",
        "\n",
        "    return final_exposure"
      ],
      "execution_count": null,
      "outputs": []
    },
    {
      "cell_type": "code",
      "metadata": {
        "id": "D_bInffpO6VX"
      },
      "source": [
        "%%cython\n",
        "\n",
        "import numpy as np\n",
        "cimport numpy as np\n",
        "\n",
        "import math\n",
        "cimport libc.math\n",
        "\n",
        "\n",
        "def signum(x):\n",
        "    if x > 0:\n",
        "        return 1\n",
        "    else:\n",
        "        return -1\n",
        "\n",
        "\n",
        "def calculate_pnl(double[:, :] close, double[:, :] open, long[:] is_320,long[:] is_916,long[:] is_230,\n",
        "                  long[:, :] is_entry, long[:, :] is_exit,\n",
        "                  long[:, :] exposure, long[:, :] real_exposure,\n",
        "                  double[:, :] turnover, double[:] mocc_store,\n",
        "                  double[:, :] pnl,\n",
        "                  float brokerage_rate, float booksize, float leverage, float n,\n",
        "                  float slippage, float rms_rate,\n",
        "                  debug=False, reinvest_profits=False):\n",
        "    \"\"\"\n",
        "        pnl stores realized pnl per trade. It is not cumulative.\n",
        "    \"\"\"\n",
        "\n",
        "    cdef Py_ssize_t num_stocks = is_entry.shape[1]\n",
        "    cdef Py_ssize_t num_datetimes = is_entry.shape[0]\n",
        "\n",
        "    cdef float cash = booksize\n",
        "\n",
        "    cdef float cur_pnl = 0.0\n",
        "    cdef float full_pnl = 0.0\n",
        "\n",
        "    cdef np.ndarray[np.int_t, ndim=1] holding_arr = np.zeros(num_stocks, np.int_)\n",
        "    cdef np.ndarray[np.float_t, ndim=1] qty_arr = np.zeros(num_stocks, np.float_)\n",
        "    cdef np.ndarray[np.float_t, ndim=1] entry_price_arr = np.zeros(num_stocks, np.float_)\n",
        "    cdef np.ndarray[np.float_t, ndim=1] margin_occupied = np.zeros(num_stocks, np.float_)\n",
        "\n",
        "    cdef float mocc = 0.0\n",
        "    cdef float true_mocc = 0.0\n",
        "    cdef float slipped = 0.0\n",
        "    cdef float exit_price = 0.0\n",
        "    cdef float assigned_money = 0.0\n",
        "\n",
        "    cdef int stock = 0\n",
        "    cdef int cur_date = 0\n",
        "\n",
        "    cdef int num_live_trades = 0\n",
        "\n",
        "    brokerage_rate /= 100.0\n",
        "    slippage /= 100.0\n",
        "\n",
        "    for cur_date in range(num_datetimes-1):\n",
        "        for stock in range(num_stocks):\n",
        "            if is_entry[cur_date, stock]:\n",
        "                if num_live_trades < n:\n",
        "                    # Calculated assigned money to this trade\n",
        "                    # It is (cash - (assigned margin).sum())/(n - num_live_trades)\n",
        "                    # Now it will not use all of this money, because of quantity\n",
        "                    # being an integer.\n",
        "                    assigned_money = (cash - mocc)/(n - num_live_trades)\n",
        "\n",
        "                    holding_arr[stock] = 1\n",
        "                    qty_arr[stock] = libc.math.floor(assigned_money*leverage/open[cur_date, stock])\n",
        "                    qty_arr[stock] *= exposure[cur_date, stock]\n",
        "\n",
        "                    entry_price_arr[stock] = open[cur_date, stock]\n",
        "                    slipped = open[cur_date, stock]*slippage\n",
        "                    entry_price_arr[stock] += signum(qty_arr[stock])*slipped\n",
        "\n",
        "                    turnover[cur_date, stock] = entry_price_arr[stock]*abs(qty_arr[stock])\n",
        "\n",
        "                    # Set margin allocated to unlevered thing\n",
        "                    margin_occupied[stock] = assigned_money\n",
        "                    mocc += assigned_money\n",
        "                    true_mocc += turnover[cur_date, stock]\n",
        "                    num_live_trades += 1\n",
        "\n",
        "                    if debug:\n",
        "                        print(\"Entered trade at price\", entry_price_arr[stock],\n",
        "                              \"for\", stock, \"on\", cur_date)\n",
        "                        print(\"Quantity is (signed)\", qty_arr[stock])\n",
        "                        print(\"Raw qty unfloored\", assigned_money*leverage/open[cur_date, stock])\n",
        "                else:\n",
        "                    if debug:\n",
        "                        print(\"We are at max trades possible, skipping\", stock, \"trade\")\n",
        "\n",
        "            real_exposure[cur_date, stock] = holding_arr[stock]\n",
        "            mocc_store[cur_date] = true_mocc\n",
        "\n",
        "            # This is not a elif because we need to allow same minute entry and exit\n",
        "            # So in the same minute both if statements go through, meaning we\n",
        "            # enter at open but exit at close\n",
        "            if (holding_arr[stock] == 1) and (is_exit[cur_date, stock]):\n",
        "                exit_price = close[cur_date, stock]\n",
        "                slipped = exit_price*slippage\n",
        "                exit_price -= signum(qty_arr[stock])*slipped\n",
        "                cur_pnl = (exit_price - entry_price_arr[stock])*qty_arr[stock]\n",
        "                brokerage = brokerage_rate*(exit_price + entry_price_arr[stock])*abs(qty_arr[stock])\n",
        "\n",
        "                if is_320[cur_date] == 1 and qty_arr[stock] != 0:\n",
        "                    brokerage += rms_rate\n",
        "\n",
        "                pnl[cur_date, stock] = cur_pnl - brokerage\n",
        "\n",
        "                full_pnl += pnl[cur_date, stock]\n",
        "\n",
        "                # Make margin allocated zero\n",
        "                mocc -= margin_occupied[stock]\n",
        "                true_mocc -= entry_price_arr[stock]*abs(qty_arr[stock])\n",
        "                margin_occupied[stock] = 0\n",
        "\n",
        "                cash = booksize + full_pnl\n",
        "                cash = max(cash, 0)\n",
        "                if not reinvest_profits:\n",
        "                    cash = min(cash, booksize)\n",
        "\n",
        "                num_live_trades -= 1\n",
        "\n",
        "                if debug:\n",
        "                    print(\"Exiting\", stock, \"on\", cur_date)\n",
        "                    print(\"Exited with pnl\", cur_pnl, \"brokerage\", brokerage)\n",
        "                    print(\"Entry price was\", entry_price_arr[stock])\n",
        "                    print(\"Exit price:\", exit_price)\n",
        "                    print(\"Quantity was:\" , qty_arr[stock])\n",
        "                    print(\"Current live trades\", num_live_trades)\n",
        "\n",
        "                holding_arr[stock] = 0\n",
        "                entry_price_arr[stock] = 0.0\n",
        "                qty_arr[stock] = 0"
      ],
      "execution_count": null,
      "outputs": []
    },
    {
      "cell_type": "markdown",
      "metadata": {
        "id": "2QZcnJd8O6VY"
      },
      "source": [
        "Backtester configurations\n",
        "==="
      ]
    },
    {
      "cell_type": "code",
      "metadata": {
        "id": "ixyCjz34O6VY"
      },
      "source": [
        "booksize = 20000\n",
        "leverage = 3    # cash behaves like cash*leverage\n",
        "\n",
        "# Max simultaneous trades to take\n",
        "n = 2\n",
        "\n",
        "candle_size = '30min'\n",
        "base = 9.25*60\n",
        "\n",
        "# In percentage\n",
        "brokerage_rate = 0.025\n",
        "slippage = 0.05\n",
        "# Intraday 3:20 square off fee\n",
        "rms_rate = 0\n",
        "\n",
        "# These are in percentage\n",
        "long_target = 1.75\n",
        "long_stoploss = 0.75\n",
        "short_target= 1.75\n",
        "short_stoploss =0.75\n",
        "\n",
        "debug = False\n",
        "\n",
        "reinvest_profits = False\n",
        "backtest_savefile_name = \"backtest.bts\""
      ],
      "execution_count": null,
      "outputs": []
    },
    {
      "cell_type": "code",
      "metadata": {
        "id": "LekYsPZTO6VZ"
      },
      "source": [
        "# close.to_csv(\"testing_error_2.csv\")"
      ],
      "execution_count": null,
      "outputs": []
    },
    {
      "cell_type": "code",
      "metadata": {
        "id": "w95dncozO6VZ"
      },
      "source": [
        ""
      ],
      "execution_count": null,
      "outputs": []
    },
    {
      "cell_type": "code",
      "metadata": {
        "scrolled": true,
        "id": "N-pvKp5uO6VZ"
      },
      "source": [
        "rclose = close.resample(candle_size, base=base).last().between_time(\"09:15\", \"15:30\").dropna()\n",
        "rclose = rclose.ffill().bfill()\n",
        "\n",
        "ropen = open.resample(candle_size, base=base).first().between_time(\"09:15\", \"15:30\").dropna()\n",
        "ropen = ropen.ffill().bfill()\n",
        "\n",
        "rhigh = high.resample(candle_size, base=base).max().between_time(\"09:15\", \"15:30\").dropna()\n",
        "rhigh = rhigh.ffill().bfill()\n",
        "\n",
        "rlow = low.resample(candle_size, base=base).min().between_time(\"09:15\", \"15:30\").dropna()\n",
        "rlow = rlow.ffill().bfill()\n",
        "\n",
        "rvolume = volume.resample(candle_size, base=base).sum().between_time(\"09:15\", \"15:30\").dropna()\n",
        "rvolume = rvolume.ffill().bfill()\n",
        "\n",
        "# rclose.head()"
      ],
      "execution_count": null,
      "outputs": []
    },
    {
      "cell_type": "code",
      "metadata": {
        "id": "NWW8sgGBO6VZ"
      },
      "source": [
        ""
      ],
      "execution_count": null,
      "outputs": []
    },
    {
      "cell_type": "markdown",
      "metadata": {
        "id": "PXGBd1qbO6VZ"
      },
      "source": [
        "Actual backtest\n",
        "==="
      ]
    },
    {
      "cell_type": "code",
      "metadata": {
        "id": "EhlsJEXlO6Va"
      },
      "source": [
        "ema3 = EMA(rclose, 3)\n",
        "ema5= EMA(rclose, 5)\n",
        "ema13 = EMA(rclose, 9)\n",
        "ema21 = EMA(rclose, 21)\n",
        "ema80 = EMA(rclose, 80)\n",
        "rsi = RSI(rclose,7)\n",
        "rsi2 = RSI(rclose,14)\n",
        "macd= MACD(rclose,6,13,5)\n",
        "macdsignal = MACDsignal(rclose,6,13,5)\n",
        "adx = ADX(rhigh,rlow,rclose,7)\n",
        "# ret1  = (rclose-rclose.shift(1))/rclose.shift(1)\n",
        "# sigma = ret1.rolling(20).std()\n",
        "# candles = 1*(rclose>ropen)+0\n",
        "upper_band = SMA(rclose,20)+2*stdDev(rclose,20)\n",
        "lower_band = SMA(rclose,20)-2*stdDev(rclose,20)\n",
        "bb = (upper_band-lower_band)/SMA(rclose,20)\n",
        "# ema80 = EMA(rclose, 80)\n",
        "returns  = rclose.pct_change()\n",
        "cmo = CMO(rclose,14)\n",
        "location = ((2*rclose-(rhigh.rolling(375).max()+rlow.rolling(375).min()))/(rhigh.rolling(375).max()-rlow.rolling(375).min()))  \n",
        "# risk_free_rate = 0.06\n",
        "# lamda = sigma/risk_free_rate\n",
        "# q = np.sqrt(-(risk_free_rate)/(sigma**4)*(sigma**2+risk_free_rate)*(1/rclose**2-lamda))\n",
        "# d = 2*rclose.rolling(10).std()#np.sqrt(1/lamda) -close\n",
        "# T = np.e**(-2*q*d)"
      ],
      "execution_count": null,
      "outputs": []
    },
    {
      "cell_type": "code",
      "metadata": {
        "id": "1TjtBdEzO6Va"
      },
      "source": [
        "r = WILLR(rhigh,rlow,rclose,14)"
      ],
      "execution_count": null,
      "outputs": []
    },
    {
      "cell_type": "code",
      "metadata": {
        "id": "Apw1cyw3O6Va"
      },
      "source": [
        "P = (rhigh.shift(1)+rlow.shift(1)+rclose.shift(1))/3\n",
        "R1 = 2*P - rlow\n",
        "S1 = 2*P - rhigh\n",
        "R2 = P + (R1-S1)\n",
        "S2 = P-(R1+S1)\n"
      ],
      "execution_count": null,
      "outputs": []
    },
    {
      "cell_type": "code",
      "metadata": {
        "id": "3qGk3Ew6O6Va"
      },
      "source": [
        "#moving avg\n",
        "strength = (rclose-ropen)/(rhigh-rlow)"
      ],
      "execution_count": null,
      "outputs": []
    },
    {
      "cell_type": "code",
      "metadata": {
        "id": "jRITK07kO6Va",
        "outputId": "2591e0e8-067b-46b5-a89a-bac6e775ac58"
      },
      "source": [
        "#csRank(returns/bb[bb<0.03])\n",
        "rvolume.shape,rclose.shape"
      ],
      "execution_count": null,
      "outputs": [
        {
          "output_type": "execute_result",
          "data": {
            "text/plain": [
              "((18979, 11), (12312, 11))"
            ]
          },
          "metadata": {
            "tags": []
          },
          "execution_count": 21
        }
      ]
    },
    {
      "cell_type": "code",
      "metadata": {
        "id": "Xpcrny9JO6Vc"
      },
      "source": [
        "def CCI(High,Low,Close, ndays):\n",
        "    TP = High + Low + Close/ 3\n",
        "    CCI= pd.DataFrame((TP -  TP.rolling(ndays).mean()) / (0.015 *TP.rolling(ndays).std()))  \n",
        "    return CCI\n",
        "cci = CCI(rhigh,rlow,rclose,14)\n",
        "\n"
      ],
      "execution_count": null,
      "outputs": []
    },
    {
      "cell_type": "code",
      "metadata": {
        "id": "QP81LVAGO6Vc"
      },
      "source": [
        "long_entry_signal= (cci.shift(1)<-100) &(cci>0) &(ropen>rclose.shift(1)*1.005))\n",
        "short_entry_signal = ((cci.shift(1)>100) &(cci<0)&(ropen<rclose.shift(1)*1.005))\n",
        "\n",
        "entry_signal = (long_entry_signal*1 - short_entry_signal*1).shift(1)"
      ],
      "execution_count": null,
      "outputs": []
    },
    {
      "cell_type": "code",
      "metadata": {
        "id": "qTBkOJsKO6Vc"
      },
      "source": [
        "# pd.set_option('display.max_rows', 500)\n",
        "# (entry_signal)"
      ],
      "execution_count": null,
      "outputs": []
    },
    {
      "cell_type": "code",
      "metadata": {
        "id": "KZ2XrUH_O6Vc"
      },
      "source": [
        "is_320 = pd.Series(data=[0]*close.shape[0], index=close.index)\n",
        "is_320.loc[close.between_time('15:00', '15:30').index] = 1"
      ],
      "execution_count": null,
      "outputs": []
    },
    {
      "cell_type": "code",
      "metadata": {
        "id": "n2mT7Q5OO6Vd"
      },
      "source": [
        "is_916 = pd.Series(data=[0]*close.shape[0], index=close.index)\n",
        "is_916.loc[close.between_time('09:17', '15:30').index] = 1"
      ],
      "execution_count": null,
      "outputs": []
    },
    {
      "cell_type": "code",
      "metadata": {
        "id": "ZV2vg9HyO6Vd"
      },
      "source": [
        "is_230 = pd.Series(data=[0]*close.shape[0], index=close.index)\n",
        "is_230.loc[close.between_time('14:30', '15:30').index] = 1"
      ],
      "execution_count": null,
      "outputs": []
    },
    {
      "cell_type": "code",
      "metadata": {
        "id": "SzaUCQarO6Vd",
        "outputId": "36a938ca-4df4-4226-faaa-2802c6cf1960"
      },
      "source": [
        "%%time\n",
        "\n",
        "msignal = entry_signal.reindex(close.index).fillna(False)\n",
        "\n",
        "exposure = get_constant_exposure(close, open, high, low,\n",
        "                                 is_320,is_916,is_230, msignal,\n",
        "                                 long_target, long_stoploss,\n",
        "                                 short_target, short_stoploss,\n",
        "                                 debug=False)"
      ],
      "execution_count": null,
      "outputs": [
        {
          "output_type": "stream",
          "text": [
            "CPU times: user 2.12 s, sys: 464 ms, total: 2.59 s\n",
            "Wall time: 3.88 s\n"
          ],
          "name": "stdout"
        }
      ]
    },
    {
      "cell_type": "code",
      "metadata": {
        "id": "_4XvrGnpO6Vd"
      },
      "source": [
        "# Entry signal if this cell isn't zero but the previous was, entry this candle\n",
        "is_entry = (exposure != 0) & (exposure.shift(1).fillna(0) == 0)\n",
        "# Exit if this cell is not zero but the next one is zero (exit at the end of this candle)\n",
        "is_exit = (exposure != 0) & (exposure.shift(-1).fillna(0) == 0)"
      ],
      "execution_count": null,
      "outputs": []
    },
    {
      "cell_type": "code",
      "metadata": {
        "id": "a4xSUqzYO6Vd",
        "outputId": "0433c8e1-f687-44bd-f5c2-e2d583b87757"
      },
      "source": [
        "print(\"Maximum trades taken in a day if we had infinite money\")\n",
        "print((is_entry.sum(axis=1).resample('1D').sum()).max())"
      ],
      "execution_count": null,
      "outputs": [
        {
          "output_type": "stream",
          "text": [
            "Maximum trades taken in a day if we had infinite money\n",
            "23\n"
          ],
          "name": "stdout"
        }
      ]
    },
    {
      "cell_type": "code",
      "metadata": {
        "id": "96mUN2m-O6Ve",
        "outputId": "6d50d6b1-0d64-40d2-ca33-7f6c83e45f2b"
      },
      "source": [
        "%%time\n",
        "\n",
        "pnl = np.zeros_like(close.values)\n",
        "turnover = np.zeros_like(close.values)\n",
        "real_exposure = np.zeros_like(exposure.values)\n",
        "mocc_store = np.zeros(close.shape[0])\n",
        "calculate_pnl(close.values, open.values, is_320.values,is_916.values,is_230.values,\n",
        "              is_entry.values*1, is_exit.values*1,\n",
        "              exposure.values, real_exposure,\n",
        "              turnover, mocc_store, pnl,\n",
        "              brokerage_rate, booksize, leverage, n, slippage, rms_rate,\n",
        "              debug=debug,\n",
        "              reinvest_profits=reinvest_profits)"
      ],
      "execution_count": null,
      "outputs": [
        {
          "output_type": "stream",
          "text": [
            "CPU times: user 224 ms, sys: 0 ns, total: 224 ms\n",
            "Wall time: 455 ms\n"
          ],
          "name": "stdout"
        }
      ]
    },
    {
      "cell_type": "code",
      "metadata": {
        "id": "aQ4RauMaO6Ve"
      },
      "source": [
        "turnover = pd.DataFrame(turnover, index=close.index, columns=stock_list)\n",
        "real_exposure = pd.DataFrame(real_exposure, index=close.index, columns=stock_list)\n",
        "mocc_store = pd.Series(mocc_store, index=close.index)\n",
        "\n",
        "pnl = pd.DataFrame(pnl, columns=stock_list, index=close.index)"
      ],
      "execution_count": null,
      "outputs": []
    },
    {
      "cell_type": "code",
      "metadata": {
        "id": "mtuMFJ2WO6Ve"
      },
      "source": [
        "# t = turnover['2017-07-10']\n",
        "# t[(t != 0).any(axis=1)]"
      ],
      "execution_count": null,
      "outputs": []
    },
    {
      "cell_type": "code",
      "metadata": {
        "id": "rkulz4fMO6Vf"
      },
      "source": [
        "# t = pnl['2017-07-10']\n",
        "# t[(t != 0).any(axis=1)]\n"
      ],
      "execution_count": null,
      "outputs": []
    },
    {
      "cell_type": "code",
      "metadata": {
        "id": "MLbV3ARLO6Vf"
      },
      "source": [
        "pd.options.display.max_columns = None"
      ],
      "execution_count": null,
      "outputs": []
    },
    {
      "cell_type": "code",
      "metadata": {
        "id": "rQUfjI-OO6Vf",
        "outputId": "f4907ab4-80e5-4634-a7c7-e6627cbfb12d"
      },
      "source": [
        "(pnl != 0).any(axis=1).resample('1D').sum().dropna().idxmax()"
      ],
      "execution_count": null,
      "outputs": [
        {
          "output_type": "execute_result",
          "data": {
            "text/plain": [
              "Timestamp('2018-10-26 00:00:00', freq='D')"
            ]
          },
          "metadata": {
            "tags": []
          },
          "execution_count": 60
        }
      ]
    },
    {
      "cell_type": "code",
      "metadata": {
        "id": "7jeoCyaRO6Vf"
      },
      "source": [
        ""
      ],
      "execution_count": null,
      "outputs": []
    },
    {
      "cell_type": "markdown",
      "metadata": {
        "id": "ZEqn-vbhO6Vg"
      },
      "source": [
        "Statistics\n",
        "==="
      ]
    },
    {
      "cell_type": "code",
      "metadata": {
        "scrolled": true,
        "id": "gYHwSSH7O6Vg",
        "outputId": "222b6d98-ad7a-4c45-dc53-0c15a606867f"
      },
      "source": [
        "%matplotlib inline\n",
        "\n",
        "plt.plot(pnl.sum(axis=1).cumsum(), label='PnL')"
      ],
      "execution_count": null,
      "outputs": [
        {
          "output_type": "execute_result",
          "data": {
            "text/plain": [
              "[<matplotlib.lines.Line2D at 0x7f2fb30ce650>]"
            ]
          },
          "metadata": {
            "tags": []
          },
          "execution_count": 61
        },
        {
          "output_type": "display_data",
          "data": {
            "image/png": "[encoded data removed]",
            "text/plain": [
              "<Figure size 432x288 with 1 Axes>"
            ]
          },
          "metadata": {
            "tags": [],
            "needs_background": "light"
          }
        }
      ]
    },
    {
      "cell_type": "code",
      "metadata": {
        "id": "3R9Af3I0O6Vg",
        "outputId": "facfa735-d704-4988-f9ca-005c690c8726"
      },
      "source": [
        "apnl = pnl.sum(axis=1)\n",
        "plt.plot(apnl.cumsum()/booksize*100)"
      ],
      "execution_count": null,
      "outputs": [
        {
          "output_type": "execute_result",
          "data": {
            "text/plain": [
              "[<matplotlib.lines.Line2D at 0x7f2fb626d7d0>]"
            ]
          },
          "metadata": {
            "tags": []
          },
          "execution_count": 62
        },
        {
          "output_type": "display_data",
          "data": {
            "image/png": "[encoded data removed]",
            "text/plain": [
              "<Figure size 432x288 with 1 Axes>"
            ]
          },
          "metadata": {
            "tags": [],
            "needs_background": "light"
          }
        }
      ]
    },
    {
      "cell_type": "code",
      "metadata": {
        "id": "nAzsGqroO6Vg",
        "outputId": "77c5fc35-2aa8-4575-d268-24cc78036b32"
      },
      "source": [
        "%matplotlib inline\n",
        "\n",
        "plt.plot(apnl/booksize*100)"
      ],
      "execution_count": null,
      "outputs": [
        {
          "output_type": "execute_result",
          "data": {
            "text/plain": [
              "[<matplotlib.lines.Line2D at 0x7f2fb619fe90>]"
            ]
          },
          "metadata": {
            "tags": []
          },
          "execution_count": 63
        },
        {
          "output_type": "display_data",
          "data": {
            "image/png": "[encoded data removed]",
            "text/plain": [
              "<Figure size 432x288 with 1 Axes>"
            ]
          },
          "metadata": {
            "tags": [],
            "needs_background": "light"
          }
        }
      ]
    },
    {
      "cell_type": "code",
      "metadata": {
        "id": "BBZ8UMFQO6Vh",
        "outputId": "92e310ec-0a60-426c-da45-92f8c912e2f3"
      },
      "source": [
        "apnl.tail()"
      ],
      "execution_count": null,
      "outputs": [
        {
          "output_type": "execute_result",
          "data": {
            "text/plain": [
              "date\n",
              "2019-07-02 15:25:00    0.0\n",
              "2019-07-02 15:26:00    0.0\n",
              "2019-07-02 15:27:00    0.0\n",
              "2019-07-02 15:28:00    0.0\n",
              "2019-07-02 15:29:00    0.0\n",
              "dtype: float64"
            ]
          },
          "metadata": {
            "tags": []
          },
          "execution_count": 64
        }
      ]
    },
    {
      "cell_type": "code",
      "metadata": {
        "id": "epHQqpbyO6Vh"
      },
      "source": [
        "apnl2 = pd.DataFrame(apnl.resample('M',label='right').sum())\n",
        "apnl2 # See consecutive down months\n",
        "apnl2['month'] = apnl2.index.month\n"
      ],
      "execution_count": null,
      "outputs": []
    },
    {
      "cell_type": "code",
      "metadata": {
        "id": "aWuvh1lOO6Vh"
      },
      "source": [
        "# pnl.sum().sort_values()"
      ],
      "execution_count": null,
      "outputs": []
    },
    {
      "cell_type": "code",
      "metadata": {
        "id": "ctuctO-vO6Vh"
      },
      "source": [
        "# apnl2[0]\n",
        "import matplotlib.pyplot as plt"
      ],
      "execution_count": null,
      "outputs": []
    },
    {
      "cell_type": "code",
      "metadata": {
        "id": "zuIuhgUyO6Vi",
        "outputId": "7d4275c5-3ede-4a5e-87b0-593806ad3823"
      },
      "source": [
        "apnl2.plot.bar(x='month')"
      ],
      "execution_count": null,
      "outputs": [
        {
          "output_type": "execute_result",
          "data": {
            "text/plain": [
              "<matplotlib.axes._subplots.AxesSubplot at 0x7f2fb6178610>"
            ]
          },
          "metadata": {
            "tags": []
          },
          "execution_count": 68
        },
        {
          "output_type": "display_data",
          "data": {
            "image/png": "[encoded data removed]",
            "text/plain": [
              "<Figure size 432x288 with 1 Axes>"
            ]
          },
          "metadata": {
            "tags": [],
            "needs_background": "light"
          }
        }
      ]
    },
    {
      "cell_type": "code",
      "metadata": {
        "id": "cOfhczYiO6Vi",
        "outputId": "11a54bcb-52bb-468e-c226-4395656d0011"
      },
      "source": [
        "print(\"Final PnL\")\n",
        "print(apnl.sum())\n",
        "print(\"Returns\",apnl.sum()*100/booksize)"
      ],
      "execution_count": null,
      "outputs": [
        {
          "output_type": "stream",
          "text": [
            "Final PnL\n",
            "18111.05922028852\n",
            "('Returns', 90.5552961014426)\n"
          ],
          "name": "stdout"
        }
      ]
    },
    {
      "cell_type": "code",
      "metadata": {
        "id": "WvqY1tDmO6Vj",
        "outputId": "0077d70f-580b-46ad-cf96-6d9452e956b6"
      },
      "source": [
        "dailypnl = apnl.groupby(apnl.index.date).sum()\n",
        "print(\"Up days\", (dailypnl > 0).sum())\n",
        "print(\"Down days\", (dailypnl < 0).sum())\n",
        "print(\"Hit Ratio\",(dailypnl > 0).sum()/((dailypnl < 0).sum()+(dailypnl > 0).sum()))\n",
        "print(\"Total Days\",((dailypnl < 0).sum()+(dailypnl > 0).sum()))\n",
        "print(\"Total Trades\",(pnl != 0).sum().sum())"
      ],
      "execution_count": null,
      "outputs": [
        {
          "output_type": "stream",
          "text": [
            "('Up days', 259)\n",
            "('Down days', 234)\n",
            "('Hit Ratio', 0)\n",
            "('Total Days', 493)\n",
            "('Total Trades', 4539)\n"
          ],
          "name": "stdout"
        }
      ]
    },
    {
      "cell_type": "code",
      "metadata": {
        "id": "anGBOJvsO6Vj"
      },
      "source": [
        "# check = pnl\n",
        "# check_series = (check != 0).any(axis=1)\n",
        "# check.loc[check_series].to_csv(\"check.csv\")\n",
        "pnl.sum()"
      ],
      "execution_count": null,
      "outputs": []
    },
    {
      "cell_type": "code",
      "metadata": {
        "scrolled": true,
        "id": "j-TAGtjfO6Vj",
        "outputId": "3bc6b94a-8ffd-49b6-d765-6b9ae4a8ffe0"
      },
      "source": [
        "print(\"MDD\")\n",
        "print(((apnl.cumsum().cummax() - apnl.cumsum())/(apnl.cumsum().cummax() + booksize)).max()*100)"
      ],
      "execution_count": null,
      "outputs": [
        {
          "output_type": "stream",
          "text": [
            "MDD\n",
            "9.367542184279138\n"
          ],
          "name": "stdout"
        }
      ]
    },
    {
      "cell_type": "code",
      "metadata": {
        "id": "DGxIYVCKO6Vj"
      },
      "source": [
        "# rclose\n",
        "pnl.sum().sort_values(ascending = False)"
      ],
      "execution_count": null,
      "outputs": []
    },
    {
      "cell_type": "code",
      "metadata": {
        "id": "SpIzBQkWO6Vk"
      },
      "source": [
        "trades_exit"
      ],
      "execution_count": null,
      "outputs": []
    },
    {
      "cell_type": "code",
      "metadata": {
        "id": "cIq4pk-bO6Vl"
      },
      "source": [
        "trades_entry"
      ],
      "execution_count": null,
      "outputs": []
    },
    {
      "cell_type": "markdown",
      "metadata": {
        "id": "CO8HJQyjO6Vl"
      },
      "source": [
        "# trades_entry.to_csv(\"entry_ema_crossover.csv\")"
      ]
    },
    {
      "cell_type": "code",
      "metadata": {
        "id": "kYFX9Wx0O6Vl"
      },
      "source": [
        "live_result = pd.DataFrame(apnl.resample('D',label='right').sum())\n",
        "live_result.to_csv('gapup.csv')"
      ],
      "execution_count": null,
      "outputs": []
    },
    {
      "cell_type": "code",
      "metadata": {
        "id": "9pnAkaCiO6Vl"
      },
      "source": [
        "new_turnover_df = ((turnover['HDFC'])[turnover['HDFC']!=0])"
      ],
      "execution_count": null,
      "outputs": []
    },
    {
      "cell_type": "code",
      "metadata": {
        "id": "jhKq-kSmO6Vl"
      },
      "source": [
        "new_turnover_df"
      ],
      "execution_count": null,
      "outputs": []
    },
    {
      "cell_type": "markdown",
      "metadata": {
        "id": "Ud0UuotsO6Vm"
      },
      "source": [
        "## Write backtest data to disk\n"
      ]
    },
    {
      "cell_type": "code",
      "metadata": {
        "id": "EDtj1ZoWO6Vm"
      },
      "source": [
        "import pickle"
      ],
      "execution_count": null,
      "outputs": []
    },
    {
      "cell_type": "code",
      "metadata": {
        "id": "IafUgzNVO6Vm"
      },
      "source": [
        "backtest_params = {\n",
        "    \"booksize\": booksize,\n",
        "    \"leverage\": leverage,\n",
        "    \"n\": n,\n",
        "    \"candle_size\": candle_size,\n",
        "    \"base\": base,\n",
        "    \"brokerage_rate\": brokerage_rate,\n",
        "    \"slippage\": slippage,\n",
        "    \"rms_rate\": rms_rate,\n",
        "    \"long_target\": long_target,\n",
        "    \"long_stoploss\": long_stoploss,\n",
        "    \"short_target\": short_target,\n",
        "    \"short_stoploss\": short_stoploss,\n",
        "    \"reinvest_profits\": reinvest_profits,\n",
        "    \"exposure\": exposure.to_json(),\n",
        "    \"real_exposure\": real_exposure.to_json(),\n",
        "    \"pnl\": pnl.to_json(),\n",
        "    \"turnover\": turnover.to_json(),\n",
        "    \"margin_occupied\": mocc_store.to_json()\n",
        "}"
      ],
      "execution_count": null,
      "outputs": []
    },
    {
      "cell_type": "code",
      "metadata": {
        "id": "_KbOEeNCO6Vn"
      },
      "source": [
        "pickle.dump(backtest_params, fileopen(backtest_savefile_name, \"wb\"))"
      ],
      "execution_count": null,
      "outputs": []
    },
    {
      "cell_type": "markdown",
      "metadata": {
        "id": "R7zCke72O6Vn"
      },
      "source": [
        "Sanity checks\n",
        "==="
      ]
    },
    {
      "cell_type": "code",
      "metadata": {
        "id": "Mw2EQk73O6Vn"
      },
      "source": [
        "# Sanity check that number of exits == number of entries\n",
        "# Should be true\n",
        "((is_entry == True).sum(axis=0) == (is_exit == True).sum(axis=0)).all()"
      ],
      "execution_count": null,
      "outputs": []
    },
    {
      "cell_type": "code",
      "metadata": {
        "id": "7tBvvvHfO6Vn"
      },
      "source": [
        "(pnl != 0).sum().sum(), (pnl > 0).sum().sum()"
      ],
      "execution_count": null,
      "outputs": []
    },
    {
      "cell_type": "code",
      "metadata": {
        "id": "GHyeUqFZO6Vn"
      },
      "source": [
        "is_entry[is_entry.any(axis=1)]"
      ],
      "execution_count": null,
      "outputs": []
    },
    {
      "cell_type": "code",
      "metadata": {
        "id": "H8UWa-RTO6Vo"
      },
      "source": [
        "pnl.dropna().head()"
      ],
      "execution_count": null,
      "outputs": []
    }
  ]
}